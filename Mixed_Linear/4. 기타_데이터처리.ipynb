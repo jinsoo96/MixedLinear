{
 "cells": [
  {
   "cell_type": "code",
   "execution_count": 1,
   "metadata": {},
   "outputs": [
    {
     "name": "stderr",
     "output_type": "stream",
     "text": [
      "c:\\Users\\JSKim\\anaconda3\\envs\\torch_ex\\lib\\site-packages\\tqdm\\auto.py:22: TqdmWarning: IProgress not found. Please update jupyter and ipywidgets. See https://ipywidgets.readthedocs.io/en/stable/user_install.html\n",
      "  from .autonotebook import tqdm as notebook_tqdm\n"
     ]
    }
   ],
   "source": [
    "import pandas as pd\n",
    "import numpy as np\n",
    "import os\n",
    "from utils2.Date_Processor import *\n",
    "from utils2.Data_run import arg_set, model_run\n",
    "from datetime import datetime, timedelta\n"
   ]
  },
  {
   "cell_type": "markdown",
   "metadata": {},
   "source": [
    "### 데이터를 1년, 2년, 3년 단위 및 예측기간(3월13~3월19)을 6시간 단위로 쪼갠 기간의 직전 3년 데이터로 나눔"
   ]
  },
  {
   "cell_type": "code",
   "execution_count": 2,
   "metadata": {},
   "outputs": [],
   "source": [
    "temp_list_1nd = range(2012,2023,1)\n",
    "temp_list_2nd = [2012,2014,2016,2018,2020,2021]  # 마지막이 2022~2023되는 문제가 있어서 마지막만 2021로 바꿈\n",
    "temp_list_3nd = [2012,2015,2018,2020,2021]  # 마지막이 2021~2023되는 문제가 있어서, 2020을 추가함."
   ]
  },
  {
   "cell_type": "code",
   "execution_count": 4,
   "metadata": {},
   "outputs": [],
   "source": [
    "# 1년 단위 데이터 생성\n",
    "result_df = pd.read_csv('./Data_Raw(로우데이터)/Final_Preprocessed_Data.csv')\n",
    "for i in temp_list_3nd:\n",
    "    year_interval = 3\n",
    "    start_year = i\n",
    "    end_year = start_year+year_interval\n",
    "    \n",
    "    date_filter = DateFilter(result_df, date_column='date')\n",
    "    filtered_df = date_filter.filter_by_date(f'{start_year}-06-01', f'{end_year}-06-01')\n",
    "    filtered_df.reset_index(inplace=True, drop=True)\n",
    "    filtered_df = filtered_df.iloc[:-1]\n",
    "    filtered_df.to_csv(f'./Data_Final(실제 모델 입력데이터)/3_year/{start_year}_{end_year}_{year_interval}_result.csv', index=False)"
   ]
  },
  {
   "cell_type": "code",
   "execution_count": 5,
   "metadata": {},
   "outputs": [
    {
     "name": "stdout",
     "output_type": "stream",
     "text": [
      "2020-03-13 00:00:00 2023-03-12 23:55:00\n",
      "2020-03-13 06:00:00 2023-03-13 05:55:00\n",
      "2020-03-13 12:00:00 2023-03-13 11:55:00\n",
      "2020-03-13 18:00:00 2023-03-13 17:55:00\n",
      "2020-03-14 00:00:00 2023-03-13 23:55:00\n",
      "2020-03-14 06:00:00 2023-03-14 05:55:00\n",
      "2020-03-14 12:00:00 2023-03-14 11:55:00\n",
      "2020-03-14 18:00:00 2023-03-14 17:55:00\n",
      "2020-03-15 00:00:00 2023-03-14 23:55:00\n",
      "2020-03-15 06:00:00 2023-03-15 05:55:00\n",
      "2020-03-15 12:00:00 2023-03-15 11:55:00\n",
      "2020-03-15 18:00:00 2023-03-15 17:55:00\n",
      "2020-03-16 00:00:00 2023-03-15 23:55:00\n",
      "2020-03-16 06:00:00 2023-03-16 05:55:00\n",
      "2020-03-16 12:00:00 2023-03-16 11:55:00\n",
      "2020-03-16 18:00:00 2023-03-16 17:55:00\n",
      "2020-03-17 00:00:00 2023-03-16 23:55:00\n",
      "2020-03-17 06:00:00 2023-03-17 05:55:00\n",
      "2020-03-17 12:00:00 2023-03-17 11:55:00\n",
      "2020-03-17 18:00:00 2023-03-17 17:55:00\n",
      "2020-03-18 00:00:00 2023-03-17 23:55:00\n",
      "2020-03-18 06:00:00 2023-03-18 05:55:00\n",
      "2020-03-18 12:00:00 2023-03-18 11:55:00\n",
      "2020-03-18 18:00:00 2023-03-18 17:55:00\n",
      "2020-03-19 00:00:00 2023-03-18 23:55:00\n",
      "2020-03-19 06:00:00 2023-03-19 05:55:00\n",
      "2020-03-19 12:00:00 2023-03-19 11:55:00\n",
      "2020-03-19 18:00:00 2023-03-19 17:55:00\n"
     ]
    }
   ],
   "source": [
    "result_df = pd.read_csv('./Data_Raw(로우데이터)/Final_Preprocessed_Data.csv')\n",
    "start_time = '2020-03-13 00:00:00'\n",
    "end_time = '2023-03-12 23:55:00'\n",
    "\n",
    "move_time = timedelta(hours=6)\n",
    "date_format = '%Y-%m-%d %H:%M:%S'\n",
    "start_datetime = datetime.strptime(start_time, date_format)\n",
    "end_datetime = datetime.strptime(end_time, date_format)\n",
    "\n",
    "for i in range(28):\n",
    "    start = str(start_datetime)\n",
    "    end = str(end_datetime)\n",
    "    start_name = start.replace(' ', '_').replace(':', '-')\n",
    "    end_name = end.replace(' ', '_').replace(':', '-')\n",
    "    print(start, end)\n",
    "    \n",
    "    date_filter = DateFilter(result_df, date_column='date')\n",
    "    filtered_df = date_filter.filter_by_date(start, end)\n",
    "    filtered_df.reset_index(inplace=True, drop=True)\n",
    "    filtered_df.to_csv(\"./Data_Final(실제 모델 입력데이터)/predict_period/{}__{}_result.csv\" .format(start_name, end_name), index=False)\n",
    "    \n",
    "    start_datetime = start_datetime + move_time\n",
    "    end_datetime = end_datetime + move_time"
   ]
  },
  {
   "cell_type": "markdown",
   "metadata": {},
   "source": [
    "### 예측 데이터를 바탕으로 실제 예측치오차(MAPE를 산출함)"
   ]
  },
  {
   "cell_type": "code",
   "execution_count": 6,
   "metadata": {},
   "outputs": [],
   "source": [
    "total_df =  pd.read_csv('./Data_Raw(로우데이터)/Final_Preprocessed_Data.csv')"
   ]
  },
  {
   "cell_type": "code",
   "execution_count": 7,
   "metadata": {},
   "outputs": [],
   "source": [
    "data_folder_list = os.listdir('./results/')\n",
    "\n",
    "colab_list = [element for element in data_folder_list if 'colab' in element]\n",
    "local_list = [element for element in data_folder_list if 'colab' not in element]\n",
    "predict_local_list = [element for element in data_folder_list if 'Mixed_Linear2' in element]\n",
    "predict_colab_list = [element for element in data_folder_list if 'cloc' in element]"
   ]
  },
  {
   "cell_type": "code",
   "execution_count": 8,
   "metadata": {},
   "outputs": [],
   "source": [
    "local_list_1 = [element for element in local_list if '_1_' in element]\n",
    "local_list_2 = [element for element in local_list if '_2_' in element]\n",
    "local_list_3 = [element for element in local_list if '_3_' in element]\n",
    "colab_list_1 = [element for element in colab_list if '_1_' in element]\n",
    "colab_list_2 = [element for element in colab_list if '_2_' in element]\n",
    "colab_list_3 = [element for element in colab_list if '_3_' in element]"
   ]
  },
  {
   "cell_type": "code",
   "execution_count": 9,
   "metadata": {},
   "outputs": [
    {
     "name": "stdout",
     "output_type": "stream",
     "text": [
      "2012_2013_1_result\n",
      "2012_2013_1_result\n",
      "2013_2014_1_result\n"
     ]
    }
   ],
   "source": [
    "for i in local_list:\n",
    "    print(i.split('.')[0])"
   ]
  },
  {
   "cell_type": "code",
   "execution_count": 10,
   "metadata": {},
   "outputs": [],
   "source": [
    "def MAPE_search(folder_list):\n",
    "    for i in folder_list:\n",
    "        name = i.split('.csv')[0]\n",
    "        data_path = './results/' + i + '/real_prediction.csv'\n",
    "        temp_df = pd.read_csv(data_path)\n",
    "        mean_mape = error_cal(total_df, temp_df, method='mape')\n",
    "        \n",
    "        print(f'File_Name : {name}, Mean_MAPE : {mean_mape}')\n",
    "    "
   ]
  },
  {
   "cell_type": "code",
   "execution_count": 11,
   "metadata": {},
   "outputs": [
    {
     "name": "stdout",
     "output_type": "stream",
     "text": [
      "File_Name : 2012_2013_1_result, Mean_MAPE : 0.0128912906278768\n",
      "File_Name : 2013_2014_1_result, Mean_MAPE : 0.023357994894597008\n"
     ]
    }
   ],
   "source": [
    "MAPE_search(predict_local_list)"
   ]
  },
  {
   "cell_type": "code",
   "execution_count": 74,
   "metadata": {},
   "outputs": [],
   "source": [
    "# 여기부터는 6시간 리스트를 가져와서 하나로 합친 뒤 기술하는 것임.\n",
    "\n",
    "actual = total_df.copy()\n",
    "\n",
    "data_frame = pd.DataFrame()\n",
    "for i in predict_colab_list:\n",
    "    data_path = './results/' + i + '/real_prediction.csv'\n",
    "    temp_df = pd.read_csv(data_path)\n",
    "    data_frame = pd.concat([data_frame, temp_df], ignore_index=True)\n",
    "\n",
    "merged_df = pd.merge(actual, data_frame, on='date', how='outer')\n",
    "merged_df = merged_df.dropna()\n",
    "merged_df = merged_df[['date', '현재수요(MW)_x', '현재수요(MW)_y']]\n",
    "merged_df.reset_index(inplace=True, drop=True)\n",
    "merged_df['Error(실제-예측)'] = merged_df['현재수요(MW)_x'] - merged_df['현재수요(MW)_y']\n",
    "merged_df.to_csv('./Data_Result(결과 데이터)/result_colab.csv', index=False)"
   ]
  },
  {
   "cell_type": "code",
   "execution_count": 75,
   "metadata": {},
   "outputs": [
    {
     "data": {
      "text/html": [
       "<div>\n",
       "<style scoped>\n",
       "    .dataframe tbody tr th:only-of-type {\n",
       "        vertical-align: middle;\n",
       "    }\n",
       "\n",
       "    .dataframe tbody tr th {\n",
       "        vertical-align: top;\n",
       "    }\n",
       "\n",
       "    .dataframe thead th {\n",
       "        text-align: right;\n",
       "    }\n",
       "</style>\n",
       "<table border=\"1\" class=\"dataframe\">\n",
       "  <thead>\n",
       "    <tr style=\"text-align: right;\">\n",
       "      <th></th>\n",
       "      <th>date</th>\n",
       "      <th>현재수요(MW)_x</th>\n",
       "      <th>현재수요(MW)_y</th>\n",
       "      <th>Error(실제-예측)</th>\n",
       "    </tr>\n",
       "  </thead>\n",
       "  <tbody>\n",
       "    <tr>\n",
       "      <th>0</th>\n",
       "      <td>2023-03-13 00:00:00</td>\n",
       "      <td>58782.0</td>\n",
       "      <td>58634.015625</td>\n",
       "      <td>147.984375</td>\n",
       "    </tr>\n",
       "    <tr>\n",
       "      <th>1</th>\n",
       "      <td>2023-03-13 00:05:00</td>\n",
       "      <td>58954.4</td>\n",
       "      <td>58735.445312</td>\n",
       "      <td>218.954688</td>\n",
       "    </tr>\n",
       "    <tr>\n",
       "      <th>2</th>\n",
       "      <td>2023-03-13 00:10:00</td>\n",
       "      <td>58710.6</td>\n",
       "      <td>58289.500000</td>\n",
       "      <td>421.100000</td>\n",
       "    </tr>\n",
       "    <tr>\n",
       "      <th>3</th>\n",
       "      <td>2023-03-13 00:15:00</td>\n",
       "      <td>58298.4</td>\n",
       "      <td>58028.527344</td>\n",
       "      <td>269.872656</td>\n",
       "    </tr>\n",
       "    <tr>\n",
       "      <th>4</th>\n",
       "      <td>2023-03-13 00:20:00</td>\n",
       "      <td>58263.7</td>\n",
       "      <td>58086.558594</td>\n",
       "      <td>177.141406</td>\n",
       "    </tr>\n",
       "    <tr>\n",
       "      <th>...</th>\n",
       "      <td>...</td>\n",
       "      <td>...</td>\n",
       "      <td>...</td>\n",
       "      <td>...</td>\n",
       "    </tr>\n",
       "    <tr>\n",
       "      <th>2011</th>\n",
       "      <td>2023-03-19 23:35:00</td>\n",
       "      <td>58627.2</td>\n",
       "      <td>59258.433594</td>\n",
       "      <td>-631.233594</td>\n",
       "    </tr>\n",
       "    <tr>\n",
       "      <th>2012</th>\n",
       "      <td>2023-03-19 23:40:00</td>\n",
       "      <td>57941.2</td>\n",
       "      <td>59166.769531</td>\n",
       "      <td>-1225.569531</td>\n",
       "    </tr>\n",
       "    <tr>\n",
       "      <th>2013</th>\n",
       "      <td>2023-03-19 23:45:00</td>\n",
       "      <td>57726.2</td>\n",
       "      <td>58653.957031</td>\n",
       "      <td>-927.757031</td>\n",
       "    </tr>\n",
       "    <tr>\n",
       "      <th>2014</th>\n",
       "      <td>2023-03-19 23:50:00</td>\n",
       "      <td>57755.4</td>\n",
       "      <td>58611.851562</td>\n",
       "      <td>-856.451562</td>\n",
       "    </tr>\n",
       "    <tr>\n",
       "      <th>2015</th>\n",
       "      <td>2023-03-19 23:55:00</td>\n",
       "      <td>57323.8</td>\n",
       "      <td>58423.066406</td>\n",
       "      <td>-1099.266406</td>\n",
       "    </tr>\n",
       "  </tbody>\n",
       "</table>\n",
       "<p>2016 rows × 4 columns</p>\n",
       "</div>"
      ],
      "text/plain": [
       "                     date  현재수요(MW)_x    현재수요(MW)_y  Error(실제-예측)\n",
       "0     2023-03-13 00:00:00     58782.0  58634.015625    147.984375\n",
       "1     2023-03-13 00:05:00     58954.4  58735.445312    218.954688\n",
       "2     2023-03-13 00:10:00     58710.6  58289.500000    421.100000\n",
       "3     2023-03-13 00:15:00     58298.4  58028.527344    269.872656\n",
       "4     2023-03-13 00:20:00     58263.7  58086.558594    177.141406\n",
       "...                   ...         ...           ...           ...\n",
       "2011  2023-03-19 23:35:00     58627.2  59258.433594   -631.233594\n",
       "2012  2023-03-19 23:40:00     57941.2  59166.769531  -1225.569531\n",
       "2013  2023-03-19 23:45:00     57726.2  58653.957031   -927.757031\n",
       "2014  2023-03-19 23:50:00     57755.4  58611.851562   -856.451562\n",
       "2015  2023-03-19 23:55:00     57323.8  58423.066406  -1099.266406\n",
       "\n",
       "[2016 rows x 4 columns]"
      ]
     },
     "execution_count": 75,
     "metadata": {},
     "output_type": "execute_result"
    }
   ],
   "source": [
    "merged_df"
   ]
  },
  {
   "cell_type": "code",
   "execution_count": 76,
   "metadata": {},
   "outputs": [
    {
     "data": {
      "text/plain": [
       "0.03800124717195253"
      ]
     },
     "execution_count": 76,
     "metadata": {},
     "output_type": "execute_result"
    }
   ],
   "source": [
    "((abs(merged_df['현재수요(MW)_x'] - merged_df['현재수요(MW)_y'])) / merged_df['현재수요(MW)_x']).mean()"
   ]
  },
  {
   "cell_type": "code",
   "execution_count": 11,
   "metadata": {},
   "outputs": [],
   "source": [
    "def result_save(folder_list, keyword=None):\n",
    "    for i in folder_list:\n",
    "        name = i.split('.csv')[0]\n",
    "        data_path = './results/' + i + '/real_prediction.csv'\n",
    "        temp_df = pd.read_csv(data_path)\n",
    "        temp_df.to_csv(f'./result_new/{name}_{keyword}_result.csv', index=False)"
   ]
  },
  {
   "cell_type": "code",
   "execution_count": 16,
   "metadata": {},
   "outputs": [],
   "source": [
    "result_save(predict_colab_list, 'colab')"
   ]
  }
 ],
 "metadata": {
  "kernelspec": {
   "display_name": "base",
   "language": "python",
   "name": "python3"
  },
  "language_info": {
   "codemirror_mode": {
    "name": "ipython",
    "version": 3
   },
   "file_extension": ".py",
   "mimetype": "text/x-python",
   "name": "python",
   "nbconvert_exporter": "python",
   "pygments_lexer": "ipython3",
   "version": "3.8.19"
  },
  "orig_nbformat": 4
 },
 "nbformat": 4,
 "nbformat_minor": 2
}
